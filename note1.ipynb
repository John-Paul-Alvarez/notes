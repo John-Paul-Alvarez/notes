{
  "nbformat": 4,
  "nbformat_minor": 0,
  "metadata": {
    "colab": {
      "provenance": [],
      "authorship_tag": "ABX9TyPrzO3vHzWEiH4E1OE3E4/x",
      "include_colab_link": true
    },
    "kernelspec": {
      "name": "python3",
      "display_name": "Python 3"
    },
    "language_info": {
      "name": "python"
    }
  },
  "cells": [
    {
      "cell_type": "markdown",
      "metadata": {
        "id": "view-in-github",
        "colab_type": "text"
      },
      "source": [
        "<a href=\"https://colab.research.google.com/github/John-Paul-Alvarez/notes/blob/main/note1.ipynb\" target=\"_parent\"><img src=\"https://colab.research.google.com/assets/colab-badge.svg\" alt=\"Open In Colab\"/></a>"
      ]
    },
    {
      "cell_type": "code",
      "execution_count": 3,
      "metadata": {
        "colab": {
          "base_uri": "https://localhost:8080/"
        },
        "id": "ZUC1cHFSVR8A",
        "outputId": "be885b8e-9518-418a-d5e0-39b08c99c0e0"
      },
      "outputs": [
        {
          "output_type": "stream",
          "name": "stdout",
          "text": [
            "hey = 99\n"
          ]
        }
      ],
      "source": [
        "hey = 99\n",
        "print(f'hey = {hey}')"
      ]
    },
    {
      "cell_type": "code",
      "source": [
        "#reading in data\n",
        "import pandas as pd\n",
        "url = \"https://data.cdc.gov/api/views/hfr9-rurv/rows.csv?accessType=DOWNLOAD\"\n",
        "df = pd.read_csv(url)\n",
        "\n",
        "#data frame summary\n",
        "#df.head()\n",
        "#df.shape\n",
        "#df.Topic\n",
        "#df.describe()\n",
        "#df.sample()"
      ],
      "metadata": {
        "id": "nvwRBbC3Y5hP"
      },
      "execution_count": 11,
      "outputs": []
    },
    {
      "cell_type": "code",
      "source": [
        "filtered_df = df[\"Data_Value\"]\n",
        "#filtered_df.drop_na()\n",
        "#row_count_before = len(filtered_df.dropna)\n",
        "#filtered_df.head()"
      ],
      "metadata": {
        "id": "lirYdArFZ5fZ"
      },
      "execution_count": 14,
      "outputs": []
    },
    {
      "cell_type": "code",
      "source": [],
      "metadata": {
        "id": "x7R2M-V3hXVW"
      },
      "execution_count": null,
      "outputs": []
    },
    {
      "cell_type": "code",
      "source": [],
      "metadata": {
        "id": "nrVfXPFlhW_7"
      },
      "execution_count": null,
      "outputs": []
    }
  ]
}